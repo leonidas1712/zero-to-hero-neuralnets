{
 "cells": [
  {
   "cell_type": "code",
   "execution_count": 4,
   "id": "148642db-45bc-49db-bf55-d25d7a548ab0",
   "metadata": {},
   "outputs": [],
   "source": [
    "from fuzzywuzzy import fuzz"
   ]
  },
  {
   "cell_type": "code",
   "execution_count": 17,
   "id": "69791b0f-eb50-4944-ae5c-9ebafcdfbf02",
   "metadata": {},
   "outputs": [
    {
     "data": {
      "text/plain": [
       "67"
      ]
     },
     "execution_count": 17,
     "metadata": {},
     "output_type": "execute_result"
    }
   ],
   "source": [
    "fuzz.token_sort_ratio('abc corp. Pte Ltd', 'ABC CORP')"
   ]
  },
  {
   "cell_type": "code",
   "execution_count": 18,
   "id": "04ba956a-6fd0-4f5d-b9b7-3da3e502631f",
   "metadata": {},
   "outputs": [],
   "source": [
    "import torch"
   ]
  },
  {
   "cell_type": "code",
   "execution_count": 28,
   "id": "3a0507c6-c67a-469e-ae90-539ab6b12121",
   "metadata": {},
   "outputs": [
    {
     "name": "stdout",
     "output_type": "stream",
     "text": [
      "tensor(30)\n",
      "tensor(70)\n"
     ]
    }
   ],
   "source": [
    "mat = torch.arange(1, 17).view(4,4)\n",
    "v = torch.arange(1,5)\n",
    "\n",
    "print(torch.dot(mat[0], v))\n",
    "print(torch.dot(mat[1], v))\n",
    "\n"
   ]
  },
  {
   "cell_type": "code",
   "execution_count": null,
   "id": "6a81cda9-8538-4345-9e87-55671e543396",
   "metadata": {},
   "outputs": [],
   "source": []
  }
 ],
 "metadata": {
  "kernelspec": {
   "display_name": "Python (dl_env 28Sep)",
   "language": "python",
   "name": "dl_env"
  },
  "language_info": {
   "codemirror_mode": {
    "name": "ipython",
    "version": 3
   },
   "file_extension": ".py",
   "mimetype": "text/x-python",
   "name": "python",
   "nbconvert_exporter": "python",
   "pygments_lexer": "ipython3",
   "version": "3.9.9"
  }
 },
 "nbformat": 4,
 "nbformat_minor": 5
}
