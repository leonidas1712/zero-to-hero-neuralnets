{
 "cells": [
  {
   "cell_type": "markdown",
   "metadata": {
    "id": "RoNe_RPhx3Cx"
   },
   "source": [
    "## Makemore Part 2: MLP\n",
    "https://www.jmlr.org/papers/volume3/bengio03a/bengio03a.pdf\n",
    "\n",
    "Idea from paper: C is a lookup table (matrix) for embeddings vector of each of the words in V e.g |V|=17k\n",
    "- C: (17000x30)\n",
    "- one-hot encoding of a word: (1x17000)\n",
    "- enc @ C -> (1x30) embedding vector\n",
    "\n",
    "We can get these vectors for multiple input words (words that came before).\n",
    "\n",
    "Pass them to neurons with n_in=30, those neurons are fully connected to a hidden layer, then goes through tanh -> softmax for probabilities.\n",
    "\n",
    "Final output: 17k vector of probabilities for the 17k words in vocab.\n",
    "- Train by using actual next word's index, get the predicted prob, do -log(prob) and backprop etc.\n",
    "---\n",
    "\n",
    "We can use this idea for a character-level model as well.\n",
    "\n",
    "## Building dataset\n",
    "Hyperparameter: BLOCK_SIZE = 3\n",
    "- block_size is the number of previous chars we consider when predicting next\n",
    "\n",
    "For each word, we add to X with block_size=3 char windows, Y has the char that comes after\n",
    "- e.g '.emma': (..., e), (..e, m), (.em, m), (emm, a), (mma, .)\n",
    "- So each word contributes n+1 examples as before, n = len(word)\n",
    "\n",
    "## Lookup table\n",
    "Lookup table: C = (27,2) random init\n",
    "- In paper, they compress 17k words of vocab into Rn of n=30\n",
    "- So we do similar here for 27 unique chars -> embeddings of size 2\n",
    "\n",
    "Previously, we used one-hot encoding to lookup with enc @ W\n",
    "- But this is just the same as doing W[idx] due to all the zeroes\n",
    "\n",
    "In PyTorch, we can just do C[X] and it will work\n",
    "- produces (32,3,2) - one 2D vector for each encoded char\n",
    "- Or another way to think about it, one (3x2) vector for each row in X. 3 because BLOCK_SIZE=3, so each row in X has 3 elements. For each of those chars, we want one 2D vector - its embedding\n",
    "\n",
    "\n"
   ]
  },
  {
   "cell_type": "code",
   "execution_count": 4,
   "metadata": {
    "executionInfo": {
     "elapsed": 10072,
     "status": "ok",
     "timestamp": 1727498203827,
     "user": {
      "displayName": "Leonidas Raghav",
      "userId": "15052167714208649093"
     },
     "user_tz": -480
    },
    "id": "E1zlN5r9xtTz"
   },
   "outputs": [],
   "source": [
    "from collections import Counter\n",
    "import torch\n",
    "import torch.nn.functional as F\n",
    "import numpy as np\n",
    "import matplotlib.pyplot as plt"
   ]
  },
  {
   "cell_type": "code",
   "execution_count": 12,
   "metadata": {
    "colab": {
     "base_uri": "https://localhost:8080/"
    },
    "executionInfo": {
     "elapsed": 374,
     "status": "ok",
     "timestamp": 1727488188151,
     "user": {
      "displayName": "Leonidas Raghav",
      "userId": "15052167714208649093"
     },
     "user_tz": -480
    },
    "id": "CNgmYr9Qx79y",
    "outputId": "2428084a-e4ac-42fe-9e84-8dc9182297ca"
   },
   "outputs": [
    {
     "name": "stdout",
     "output_type": "stream",
     "text": [
      "['emma', 'olivia', 'ava', 'isabella', 'sophia', 'charlotte', 'mia', 'amelia', 'harper', 'evelyn']\n",
      "32033\n",
      "{'.': 0, 'a': 1, 'b': 2, 'c': 3, 'd': 4, 'e': 5, 'f': 6, 'g': 7, 'h': 8, 'i': 9, 'j': 10, 'k': 11, 'l': 12, 'm': 13, 'n': 14, 'o': 15, 'p': 16, 'q': 17, 'r': 18, 's': 19, 't': 20, 'u': 21, 'v': 22, 'w': 23, 'x': 24, 'y': 25, 'z': 26}\n"
     ]
    },
    {
     "data": {
      "text/plain": [
       "{0: '.',\n",
       " 1: 'a',\n",
       " 2: 'b',\n",
       " 3: 'c',\n",
       " 4: 'd',\n",
       " 5: 'e',\n",
       " 6: 'f',\n",
       " 7: 'g',\n",
       " 8: 'h',\n",
       " 9: 'i',\n",
       " 10: 'j',\n",
       " 11: 'k',\n",
       " 12: 'l',\n",
       " 13: 'm',\n",
       " 14: 'n',\n",
       " 15: 'o',\n",
       " 16: 'p',\n",
       " 17: 'q',\n",
       " 18: 'r',\n",
       " 19: 's',\n",
       " 20: 't',\n",
       " 21: 'u',\n",
       " 22: 'v',\n",
       " 23: 'w',\n",
       " 24: 'x',\n",
       " 25: 'y',\n",
       " 26: 'z'}"
      ]
     },
     "execution_count": 12,
     "metadata": {},
     "output_type": "execute_result"
    }
   ],
   "source": [
    "names = []\n",
    "with open('names.txt', 'r') as names_file:\n",
    "  names = names_file.read().splitlines()\n",
    "\n",
    "print(names[:10])\n",
    "print(len(names))\n",
    "\n",
    "# build lookups\n",
    "uniq = ['.'] + sorted(list(set(''.join(names))))\n",
    "stoi = { char: idx for idx, char in enumerate(uniq)}\n",
    "itos = { idx: char for char,idx in stoi.items() }\n",
    "\n",
    "print(stoi)\n",
    "itos"
   ]
  },
  {
   "cell_type": "markdown",
   "metadata": {
    "id": "Tl1lLlcpJtBM"
   },
   "source": [
    "## Build the dataset"
   ]
  },
  {
   "cell_type": "code",
   "execution_count": 18,
   "metadata": {
    "colab": {
     "base_uri": "https://localhost:8080/"
    },
    "executionInfo": {
     "elapsed": 345,
     "status": "ok",
     "timestamp": 1727488190995,
     "user": {
      "displayName": "Leonidas Raghav",
      "userId": "15052167714208649093"
     },
     "user_tz": -480
    },
    "id": "INrlJJdu70z3",
    "outputId": "4fa9ff58-4349-46f0-fbb5-5b7f861df269"
   },
   "outputs": [
    {
     "name": "stdout",
     "output_type": "stream",
     "text": [
      "emma\n",
      "... -> e\n",
      "..e -> m\n",
      ".em -> m\n",
      "emm -> a\n",
      "mma -> .\n",
      "olivia\n",
      "... -> o\n",
      "..o -> l\n",
      ".ol -> i\n",
      "oli -> v\n",
      "liv -> i\n",
      "ivi -> a\n",
      "via -> .\n",
      "ava\n",
      "... -> a\n",
      "..a -> v\n",
      ".av -> a\n",
      "ava -> .\n",
      "isabella\n",
      "... -> i\n",
      "..i -> s\n",
      ".is -> a\n",
      "isa -> b\n",
      "sab -> e\n",
      "abe -> l\n",
      "bel -> l\n",
      "ell -> a\n",
      "lla -> .\n",
      "sophia\n",
      "... -> s\n",
      "..s -> o\n",
      ".so -> p\n",
      "sop -> h\n",
      "oph -> i\n",
      "phi -> a\n",
      "hia -> .\n"
     ]
    }
   ],
   "source": [
    "BLOCK_SIZE = 3\n",
    "X = []\n",
    "Y = []\n",
    "\n",
    "for word in names[:5]:\n",
    "  print(word)\n",
    "  word = word + '.'\n",
    "  block = [0] * BLOCK_SIZE # ... (empty context at start)\n",
    "\n",
    "  for char in word:\n",
    "    char_idx = stoi[char]\n",
    "    X.append(block)\n",
    "    Y.append(char_idx)\n",
    "\n",
    "    block_str = ''.join(list(map(lambda i: itos[i], block)))\n",
    "    print(f'{block_str} -> {char}')\n",
    "\n",
    "    # update block: roll over sliding window\n",
    "    block = block[1:] + [char_idx]\n",
    "\n",
    "\n",
    "X = torch.tensor(X)\n",
    "Y = torch.tensor(Y)"
   ]
  },
  {
   "cell_type": "code",
   "execution_count": 20,
   "metadata": {
    "colab": {
     "base_uri": "https://localhost:8080/"
    },
    "executionInfo": {
     "elapsed": 410,
     "status": "ok",
     "timestamp": 1727489615781,
     "user": {
      "displayName": "Leonidas Raghav",
      "userId": "15052167714208649093"
     },
     "user_tz": -480
    },
    "id": "vUo1EJwqJzs0",
    "outputId": "b6926d3a-389f-4be1-9eae-bf58b6f6b454"
   },
   "outputs": [
    {
     "name": "stdout",
     "output_type": "stream",
     "text": [
      "tensor([[ 0,  0,  0],\n",
      "        [ 0,  0,  5],\n",
      "        [ 0,  5, 13],\n",
      "        [ 5, 13, 13],\n",
      "        [13, 13,  1],\n",
      "        [ 0,  0,  0],\n",
      "        [ 0,  0, 15],\n",
      "        [ 0, 15, 12],\n",
      "        [15, 12,  9],\n",
      "        [12,  9, 22],\n",
      "        [ 9, 22,  9],\n",
      "        [22,  9,  1],\n",
      "        [ 0,  0,  0],\n",
      "        [ 0,  0,  1],\n",
      "        [ 0,  1, 22],\n",
      "        [ 1, 22,  1],\n",
      "        [ 0,  0,  0],\n",
      "        [ 0,  0,  9],\n",
      "        [ 0,  9, 19],\n",
      "        [ 9, 19,  1],\n",
      "        [19,  1,  2],\n",
      "        [ 1,  2,  5],\n",
      "        [ 2,  5, 12],\n",
      "        [ 5, 12, 12],\n",
      "        [12, 12,  1],\n",
      "        [ 0,  0,  0],\n",
      "        [ 0,  0, 19],\n",
      "        [ 0, 19, 15],\n",
      "        [19, 15, 16],\n",
      "        [15, 16,  8],\n",
      "        [16,  8,  9],\n",
      "        [ 8,  9,  1]])\n",
      "---\n",
      "tensor([ 5, 13, 13,  1,  0, 15, 12,  9, 22,  9,  1,  0,  1, 22,  1,  0,  9, 19,\n",
      "         1,  2,  5, 12, 12,  1,  0, 19, 15, 16,  8,  9,  1,  0])\n"
     ]
    }
   ],
   "source": [
    "X.shape, Y.shape, X.dtype, Y.dtype\n",
    "print(X)\n",
    "print(\"---\")\n",
    "print(Y)"
   ]
  },
  {
   "cell_type": "markdown",
   "metadata": {
    "id": "97_c8JD9Z8Bd"
   },
   "source": [
    "## Lookup table C, embeddings matrix"
   ]
  },
  {
   "cell_type": "code",
   "execution_count": 22,
   "metadata": {
    "colab": {
     "base_uri": "https://localhost:8080/"
    },
    "executionInfo": {
     "elapsed": 404,
     "status": "ok",
     "timestamp": 1727490140478,
     "user": {
      "displayName": "Leonidas Raghav",
      "userId": "15052167714208649093"
     },
     "user_tz": -480
    },
    "id": "J7DEHynvMtq7",
    "outputId": "f79ae109-2ddb-40ef-895e-6553c96d2fa1"
   },
   "outputs": [
    {
     "name": "stdout",
     "output_type": "stream",
     "text": [
      "tensor([[ 1.6309,  0.2452],\n",
      "        [-0.2122, -0.1653],\n",
      "        [ 0.1938, -2.3019],\n",
      "        [ 0.4438,  0.6229],\n",
      "        [-1.7263,  0.6499],\n",
      "        [ 0.6808,  0.8638],\n",
      "        [-0.3586,  1.2320],\n",
      "        [-1.4481,  1.0437],\n",
      "        [-0.7733,  0.3859],\n",
      "        [ 0.8189,  1.4886],\n",
      "        [ 0.5716,  1.4620],\n",
      "        [ 0.4114, -0.7313],\n",
      "        [ 1.0447, -0.7916],\n",
      "        [-1.4320, -0.8993],\n",
      "        [-1.9004, -0.6209],\n",
      "        [ 0.6658, -1.4881],\n",
      "        [-0.3032, -0.0601],\n",
      "        [-0.1473,  2.5582],\n",
      "        [ 0.0379, -0.9372],\n",
      "        [ 3.0048,  0.5230],\n",
      "        [ 0.2714,  0.3456],\n",
      "        [-1.3311, -0.4320],\n",
      "        [ 0.3081,  1.5513],\n",
      "        [ 2.2591, -1.9282],\n",
      "        [ 2.1477,  1.6317],\n",
      "        [ 0.0038,  0.7593],\n",
      "        [-0.5328, -0.1106]]) \n",
      "------\n",
      "\n",
      "tensor([[ 1.6309,  0.2452],\n",
      "        [ 0.6808,  0.8638],\n",
      "        [-1.4320, -0.8993]])\n",
      "tensor([[ 1.6309,  0.2452],\n",
      "        [ 0.6808,  0.8638],\n",
      "        [-1.4320, -0.8993]])\n",
      "Embeddings:\n",
      "torch.Size([32, 3, 2])\n"
     ]
    },
    {
     "data": {
      "text/plain": [
       "tensor([[[ 1.6309,  0.2452],\n",
       "         [ 1.6309,  0.2452],\n",
       "         [ 1.6309,  0.2452]],\n",
       "\n",
       "        [[ 1.6309,  0.2452],\n",
       "         [ 1.6309,  0.2452],\n",
       "         [ 0.6808,  0.8638]],\n",
       "\n",
       "        [[ 1.6309,  0.2452],\n",
       "         [ 0.6808,  0.8638],\n",
       "         [-1.4320, -0.8993]],\n",
       "\n",
       "        [[ 0.6808,  0.8638],\n",
       "         [-1.4320, -0.8993],\n",
       "         [-1.4320, -0.8993]],\n",
       "\n",
       "        [[-1.4320, -0.8993],\n",
       "         [-1.4320, -0.8993],\n",
       "         [-0.2122, -0.1653]],\n",
       "\n",
       "        [[ 1.6309,  0.2452],\n",
       "         [ 1.6309,  0.2452],\n",
       "         [ 1.6309,  0.2452]],\n",
       "\n",
       "        [[ 1.6309,  0.2452],\n",
       "         [ 1.6309,  0.2452],\n",
       "         [ 0.6658, -1.4881]],\n",
       "\n",
       "        [[ 1.6309,  0.2452],\n",
       "         [ 0.6658, -1.4881],\n",
       "         [ 1.0447, -0.7916]],\n",
       "\n",
       "        [[ 0.6658, -1.4881],\n",
       "         [ 1.0447, -0.7916],\n",
       "         [ 0.8189,  1.4886]],\n",
       "\n",
       "        [[ 1.0447, -0.7916],\n",
       "         [ 0.8189,  1.4886],\n",
       "         [ 0.3081,  1.5513]],\n",
       "\n",
       "        [[ 0.8189,  1.4886],\n",
       "         [ 0.3081,  1.5513],\n",
       "         [ 0.8189,  1.4886]],\n",
       "\n",
       "        [[ 0.3081,  1.5513],\n",
       "         [ 0.8189,  1.4886],\n",
       "         [-0.2122, -0.1653]],\n",
       "\n",
       "        [[ 1.6309,  0.2452],\n",
       "         [ 1.6309,  0.2452],\n",
       "         [ 1.6309,  0.2452]],\n",
       "\n",
       "        [[ 1.6309,  0.2452],\n",
       "         [ 1.6309,  0.2452],\n",
       "         [-0.2122, -0.1653]],\n",
       "\n",
       "        [[ 1.6309,  0.2452],\n",
       "         [-0.2122, -0.1653],\n",
       "         [ 0.3081,  1.5513]],\n",
       "\n",
       "        [[-0.2122, -0.1653],\n",
       "         [ 0.3081,  1.5513],\n",
       "         [-0.2122, -0.1653]],\n",
       "\n",
       "        [[ 1.6309,  0.2452],\n",
       "         [ 1.6309,  0.2452],\n",
       "         [ 1.6309,  0.2452]],\n",
       "\n",
       "        [[ 1.6309,  0.2452],\n",
       "         [ 1.6309,  0.2452],\n",
       "         [ 0.8189,  1.4886]],\n",
       "\n",
       "        [[ 1.6309,  0.2452],\n",
       "         [ 0.8189,  1.4886],\n",
       "         [ 3.0048,  0.5230]],\n",
       "\n",
       "        [[ 0.8189,  1.4886],\n",
       "         [ 3.0048,  0.5230],\n",
       "         [-0.2122, -0.1653]],\n",
       "\n",
       "        [[ 3.0048,  0.5230],\n",
       "         [-0.2122, -0.1653],\n",
       "         [ 0.1938, -2.3019]],\n",
       "\n",
       "        [[-0.2122, -0.1653],\n",
       "         [ 0.1938, -2.3019],\n",
       "         [ 0.6808,  0.8638]],\n",
       "\n",
       "        [[ 0.1938, -2.3019],\n",
       "         [ 0.6808,  0.8638],\n",
       "         [ 1.0447, -0.7916]],\n",
       "\n",
       "        [[ 0.6808,  0.8638],\n",
       "         [ 1.0447, -0.7916],\n",
       "         [ 1.0447, -0.7916]],\n",
       "\n",
       "        [[ 1.0447, -0.7916],\n",
       "         [ 1.0447, -0.7916],\n",
       "         [-0.2122, -0.1653]],\n",
       "\n",
       "        [[ 1.6309,  0.2452],\n",
       "         [ 1.6309,  0.2452],\n",
       "         [ 1.6309,  0.2452]],\n",
       "\n",
       "        [[ 1.6309,  0.2452],\n",
       "         [ 1.6309,  0.2452],\n",
       "         [ 3.0048,  0.5230]],\n",
       "\n",
       "        [[ 1.6309,  0.2452],\n",
       "         [ 3.0048,  0.5230],\n",
       "         [ 0.6658, -1.4881]],\n",
       "\n",
       "        [[ 3.0048,  0.5230],\n",
       "         [ 0.6658, -1.4881],\n",
       "         [-0.3032, -0.0601]],\n",
       "\n",
       "        [[ 0.6658, -1.4881],\n",
       "         [-0.3032, -0.0601],\n",
       "         [-0.7733,  0.3859]],\n",
       "\n",
       "        [[-0.3032, -0.0601],\n",
       "         [-0.7733,  0.3859],\n",
       "         [ 0.8189,  1.4886]],\n",
       "\n",
       "        [[-0.7733,  0.3859],\n",
       "         [ 0.8189,  1.4886],\n",
       "         [-0.2122, -0.1653]]])"
      ]
     },
     "execution_count": 22,
     "metadata": {},
     "output_type": "execute_result"
    }
   ],
   "source": [
    "# Lookup table\n",
    "C = torch.randn(27,2)\n",
    "print(C, \"\\n------\\n\")\n",
    "\n",
    "# Embedding\n",
    "emb = C[X]\n",
    "\n",
    "# For each size 3 block in X (each row), we get a (3x2) matrix which has all the 2D embeddings for the chars that make up the block\n",
    "  # e.g X[2] = [0,5,13], so emb[2] is [C[0], C[5], C[13]] stacked vertically\n",
    "\n",
    "print(emb[2])\n",
    "example = torch.cat((C[0], C[5], C[13]), dim=0).view((3,2))\n",
    "# same as emb[2]\n",
    "print(example)\n",
    "\n",
    "\n",
    "print(\"Embeddings:\")\n",
    "print(emb.shape)\n",
    "emb"
   ]
  },
  {
   "cell_type": "markdown",
   "metadata": {
    "id": "ck__BTsebPl5"
   },
   "source": [
    "## Different ways to flatten"
   ]
  },
  {
   "cell_type": "code",
   "execution_count": 58,
   "metadata": {
    "colab": {
     "base_uri": "https://localhost:8080/"
    },
    "executionInfo": {
     "elapsed": 366,
     "status": "ok",
     "timestamp": 1727490193315,
     "user": {
      "displayName": "Leonidas Raghav",
      "userId": "15052167714208649093"
     },
     "user_tz": -480
    },
    "id": "5TGsS6o-Q2HD",
    "outputId": "48929d69-be45-45d1-8069-373cc42e1b80"
   },
   "outputs": [
    {
     "name": "stdout",
     "output_type": "stream",
     "text": [
      "(tensor([[ 0.8411,  0.9071],\n",
      "        [ 0.8411,  0.9071],\n",
      "        [ 0.8411,  0.9071],\n",
      "        [-0.0032, -0.0444],\n",
      "        [-1.1311,  0.3155],\n",
      "        [ 0.8411,  0.9071],\n",
      "        [ 0.8411,  0.9071],\n",
      "        [ 0.8411,  0.9071],\n",
      "        [ 0.2686,  0.6108],\n",
      "        [-0.0574,  0.2049],\n",
      "        [ 2.2140, -0.5827],\n",
      "        [-1.5016, -0.9905],\n",
      "        [ 0.8411,  0.9071],\n",
      "        [ 0.8411,  0.9071],\n",
      "        [ 0.8411,  0.9071],\n",
      "        [ 0.2061,  0.1933],\n",
      "        [ 0.8411,  0.9071],\n",
      "        [ 0.8411,  0.9071],\n",
      "        [ 0.8411,  0.9071],\n",
      "        [ 2.2140, -0.5827],\n",
      "        [-1.1089,  0.6892],\n",
      "        [ 0.2061,  0.1933],\n",
      "        [ 0.5028, -1.1211],\n",
      "        [-0.0032, -0.0444],\n",
      "        [-0.0574,  0.2049],\n",
      "        [ 0.8411,  0.9071],\n",
      "        [ 0.8411,  0.9071],\n",
      "        [ 0.8411,  0.9071],\n",
      "        [-1.1089,  0.6892],\n",
      "        [ 0.2686,  0.6108],\n",
      "        [-0.0785, -0.0394],\n",
      "        [-0.3244, -1.1376]]), tensor([[ 0.8411,  0.9071],\n",
      "        [ 0.8411,  0.9071],\n",
      "        [-0.0032, -0.0444],\n",
      "        [-1.1311,  0.3155],\n",
      "        [-1.1311,  0.3155],\n",
      "        [ 0.8411,  0.9071],\n",
      "        [ 0.8411,  0.9071],\n",
      "        [ 0.2686,  0.6108],\n",
      "        [-0.0574,  0.2049],\n",
      "        [ 2.2140, -0.5827],\n",
      "        [-1.5016, -0.9905],\n",
      "        [ 2.2140, -0.5827],\n",
      "        [ 0.8411,  0.9071],\n",
      "        [ 0.8411,  0.9071],\n",
      "        [ 0.2061,  0.1933],\n",
      "        [-1.5016, -0.9905],\n",
      "        [ 0.8411,  0.9071],\n",
      "        [ 0.8411,  0.9071],\n",
      "        [ 2.2140, -0.5827],\n",
      "        [-1.1089,  0.6892],\n",
      "        [ 0.2061,  0.1933],\n",
      "        [ 0.5028, -1.1211],\n",
      "        [-0.0032, -0.0444],\n",
      "        [-0.0574,  0.2049],\n",
      "        [-0.0574,  0.2049],\n",
      "        [ 0.8411,  0.9071],\n",
      "        [ 0.8411,  0.9071],\n",
      "        [-1.1089,  0.6892],\n",
      "        [ 0.2686,  0.6108],\n",
      "        [-0.0785, -0.0394],\n",
      "        [-0.3244, -1.1376],\n",
      "        [ 2.2140, -0.5827]]), tensor([[ 0.8411,  0.9071],\n",
      "        [-0.0032, -0.0444],\n",
      "        [-1.1311,  0.3155],\n",
      "        [-1.1311,  0.3155],\n",
      "        [ 0.2061,  0.1933],\n",
      "        [ 0.8411,  0.9071],\n",
      "        [ 0.2686,  0.6108],\n",
      "        [-0.0574,  0.2049],\n",
      "        [ 2.2140, -0.5827],\n",
      "        [-1.5016, -0.9905],\n",
      "        [ 2.2140, -0.5827],\n",
      "        [ 0.2061,  0.1933],\n",
      "        [ 0.8411,  0.9071],\n",
      "        [ 0.2061,  0.1933],\n",
      "        [-1.5016, -0.9905],\n",
      "        [ 0.2061,  0.1933],\n",
      "        [ 0.8411,  0.9071],\n",
      "        [ 2.2140, -0.5827],\n",
      "        [-1.1089,  0.6892],\n",
      "        [ 0.2061,  0.1933],\n",
      "        [ 0.5028, -1.1211],\n",
      "        [-0.0032, -0.0444],\n",
      "        [-0.0574,  0.2049],\n",
      "        [-0.0574,  0.2049],\n",
      "        [ 0.2061,  0.1933],\n",
      "        [ 0.8411,  0.9071],\n",
      "        [-1.1089,  0.6892],\n",
      "        [ 0.2686,  0.6108],\n",
      "        [-0.0785, -0.0394],\n",
      "        [-0.3244, -1.1376],\n",
      "        [ 2.2140, -0.5827],\n",
      "        [ 0.2061,  0.1933]]))\n",
      "tensor([[ 0.8411,  0.9071,  0.8411,  0.9071,  0.8411,  0.9071],\n",
      "        [ 0.8411,  0.9071,  0.8411,  0.9071, -0.0032, -0.0444],\n",
      "        [ 0.8411,  0.9071, -0.0032, -0.0444, -1.1311,  0.3155],\n",
      "        [-0.0032, -0.0444, -1.1311,  0.3155, -1.1311,  0.3155],\n",
      "        [-1.1311,  0.3155, -1.1311,  0.3155,  0.2061,  0.1933],\n",
      "        [ 0.8411,  0.9071,  0.8411,  0.9071,  0.8411,  0.9071],\n",
      "        [ 0.8411,  0.9071,  0.8411,  0.9071,  0.2686,  0.6108],\n",
      "        [ 0.8411,  0.9071,  0.2686,  0.6108, -0.0574,  0.2049],\n",
      "        [ 0.2686,  0.6108, -0.0574,  0.2049,  2.2140, -0.5827],\n",
      "        [-0.0574,  0.2049,  2.2140, -0.5827, -1.5016, -0.9905],\n",
      "        [ 2.2140, -0.5827, -1.5016, -0.9905,  2.2140, -0.5827],\n",
      "        [-1.5016, -0.9905,  2.2140, -0.5827,  0.2061,  0.1933],\n",
      "        [ 0.8411,  0.9071,  0.8411,  0.9071,  0.8411,  0.9071],\n",
      "        [ 0.8411,  0.9071,  0.8411,  0.9071,  0.2061,  0.1933],\n",
      "        [ 0.8411,  0.9071,  0.2061,  0.1933, -1.5016, -0.9905],\n",
      "        [ 0.2061,  0.1933, -1.5016, -0.9905,  0.2061,  0.1933],\n",
      "        [ 0.8411,  0.9071,  0.8411,  0.9071,  0.8411,  0.9071],\n",
      "        [ 0.8411,  0.9071,  0.8411,  0.9071,  2.2140, -0.5827],\n",
      "        [ 0.8411,  0.9071,  2.2140, -0.5827, -1.1089,  0.6892],\n",
      "        [ 2.2140, -0.5827, -1.1089,  0.6892,  0.2061,  0.1933],\n",
      "        [-1.1089,  0.6892,  0.2061,  0.1933,  0.5028, -1.1211],\n",
      "        [ 0.2061,  0.1933,  0.5028, -1.1211, -0.0032, -0.0444],\n",
      "        [ 0.5028, -1.1211, -0.0032, -0.0444, -0.0574,  0.2049],\n",
      "        [-0.0032, -0.0444, -0.0574,  0.2049, -0.0574,  0.2049],\n",
      "        [-0.0574,  0.2049, -0.0574,  0.2049,  0.2061,  0.1933],\n",
      "        [ 0.8411,  0.9071,  0.8411,  0.9071,  0.8411,  0.9071],\n",
      "        [ 0.8411,  0.9071,  0.8411,  0.9071, -1.1089,  0.6892],\n",
      "        [ 0.8411,  0.9071, -1.1089,  0.6892,  0.2686,  0.6108],\n",
      "        [-1.1089,  0.6892,  0.2686,  0.6108, -0.0785, -0.0394],\n",
      "        [ 0.2686,  0.6108, -0.0785, -0.0394, -0.3244, -1.1376],\n",
      "        [-0.0785, -0.0394, -0.3244, -1.1376,  2.2140, -0.5827],\n",
      "        [-0.3244, -1.1376,  2.2140, -0.5827,  0.2061,  0.1933]])\n"
     ]
    }
   ],
   "source": [
    "# We want W such that we can do emb @ W\n",
    "\n",
    "# with unbind + cat\n",
    "  # unbind: removes a dimension and returns tuple of each slice\n",
    "  # e.g dim=1, so we slice along 0,1,2 for emb\n",
    "  # get: emb[:, 0, :], emb[:, 1, :], emb[:, 2, :], ...\n",
    "# cat: concatenate\n",
    "sliced = torch.unbind(emb, dim=1)\n",
    "print(sliced)\n",
    "cat_ver = torch.cat(sliced , dim=1)\n",
    "print(cat_ver)\n",
    "\n",
    "\n",
    "# 32x3x2\n",
    "trf = torch.flatten(emb, 1, 2)\n",
    "# trf"
   ]
  },
  {
   "cell_type": "code",
   "execution_count": 39,
   "metadata": {
    "colab": {
     "base_uri": "https://localhost:8080/"
    },
    "executionInfo": {
     "elapsed": 317,
     "status": "ok",
     "timestamp": 1727489552301,
     "user": {
      "displayName": "Leonidas Raghav",
      "userId": "15052167714208649093"
     },
     "user_tz": -480
    },
    "id": "IwQQxjYUY_Ym",
    "outputId": "e31c83ba-be81-45b4-eab3-221abefddfff"
   },
   "outputs": [
    {
     "data": {
      "text/plain": [
       "tensor([[True, True, True, True, True, True],\n",
       "        [True, True, True, True, True, True],\n",
       "        [True, True, True, True, True, True],\n",
       "        [True, True, True, True, True, True],\n",
       "        [True, True, True, True, True, True],\n",
       "        [True, True, True, True, True, True],\n",
       "        [True, True, True, True, True, True],\n",
       "        [True, True, True, True, True, True],\n",
       "        [True, True, True, True, True, True],\n",
       "        [True, True, True, True, True, True],\n",
       "        [True, True, True, True, True, True],\n",
       "        [True, True, True, True, True, True],\n",
       "        [True, True, True, True, True, True],\n",
       "        [True, True, True, True, True, True],\n",
       "        [True, True, True, True, True, True],\n",
       "        [True, True, True, True, True, True],\n",
       "        [True, True, True, True, True, True],\n",
       "        [True, True, True, True, True, True],\n",
       "        [True, True, True, True, True, True],\n",
       "        [True, True, True, True, True, True],\n",
       "        [True, True, True, True, True, True],\n",
       "        [True, True, True, True, True, True],\n",
       "        [True, True, True, True, True, True],\n",
       "        [True, True, True, True, True, True],\n",
       "        [True, True, True, True, True, True],\n",
       "        [True, True, True, True, True, True],\n",
       "        [True, True, True, True, True, True],\n",
       "        [True, True, True, True, True, True],\n",
       "        [True, True, True, True, True, True],\n",
       "        [True, True, True, True, True, True],\n",
       "        [True, True, True, True, True, True],\n",
       "        [True, True, True, True, True, True]])"
      ]
     },
     "execution_count": 39,
     "metadata": {},
     "output_type": "execute_result"
    }
   ],
   "source": [
    "#emb.view(32,6) == trf"
   ]
  },
  {
   "cell_type": "code",
   "execution_count": 23,
   "metadata": {
    "colab": {
     "base_uri": "https://localhost:8080/"
    },
    "executionInfo": {
     "elapsed": 2,
     "status": "ok",
     "timestamp": 1727488676429,
     "user": {
      "displayName": "Leonidas Raghav",
      "userId": "15052167714208649093"
     },
     "user_tz": -480
    },
    "id": "d8U-uOiTVK8G",
    "outputId": "1b1d74a1-40c9-4145-ebe1-ff38775710b7"
   },
   "outputs": [
    {
     "data": {
      "text/plain": [
       "tensor([[ 2.2529,  0.0614],\n",
       "        [ 3.5035, -0.3159],\n",
       "        [ 3.6840,  0.7607],\n",
       "        [ 0.4116,  2.3404],\n",
       "        [-6.9042,  2.6555],\n",
       "        [ 2.2529,  0.0614],\n",
       "        [ 2.3969,  0.0221],\n",
       "        [ 2.2525, -0.3542],\n",
       "        [ 4.8385,  0.6692],\n",
       "        [-0.7144,  0.2851],\n",
       "        [ 0.9197,  0.3874],\n",
       "        [-1.5129,  0.2543],\n",
       "        [ 2.2529,  0.0614],\n",
       "        [ 1.3862,  0.3225],\n",
       "        [ 1.6051, -0.4765],\n",
       "        [ 3.2999,  0.1873],\n",
       "        [ 2.2529,  0.0614],\n",
       "        [ 2.0957,  0.1067],\n",
       "        [ 2.5501,  0.1032],\n",
       "        [ 0.4288,  0.8723],\n",
       "        [-2.4951, -0.0287],\n",
       "        [ 5.0560, -1.1624],\n",
       "        [ 2.2715,  0.2917],\n",
       "        [-0.9599,  1.2554],\n",
       "        [-1.1757,  0.7717],\n",
       "        [ 2.2529,  0.0614],\n",
       "        [ 2.5738, -0.0386],\n",
       "        [ 2.5847,  0.6766],\n",
       "        [-1.5513,  0.0100],\n",
       "        [ 3.0989, -0.1220],\n",
       "        [ 4.8852, -0.0825],\n",
       "        [-2.6018, -0.5155]])"
      ]
     },
     "execution_count": 23,
     "metadata": {},
     "output_type": "execute_result"
    }
   ],
   "source": [
    "W = torch.randn((6,2))\n",
    "trf @ W"
   ]
  },
  {
   "cell_type": "code",
   "execution_count": 67,
   "metadata": {
    "colab": {
     "base_uri": "https://localhost:8080/"
    },
    "executionInfo": {
     "elapsed": 329,
     "status": "ok",
     "timestamp": 1727490611358,
     "user": {
      "displayName": "Leonidas Raghav",
      "userId": "15052167714208649093"
     },
     "user_tz": -480
    },
    "id": "E8sdHAN1WU9-",
    "outputId": "e04209ae-25a9-40a6-d4da-17cca03fa4ed"
   },
   "outputs": [
    {
     "data": {
      "text/plain": [
       "torch.Size([1, 2])"
      ]
     },
     "execution_count": 67,
     "metadata": {},
     "output_type": "execute_result"
    }
   ],
   "source": [
    "t = torch.arange(6).view(3,2)\n",
    "t.sum(dim=0, keepdim=True).shape"
   ]
  },
  {
   "cell_type": "code",
   "execution_count": null,
   "metadata": {
    "id": "uia47IuXdDUp"
   },
   "outputs": [],
   "source": []
  }
 ],
 "metadata": {
  "colab": {
   "authorship_tag": "ABX9TyPQDGcWn074pA7NdAWB8vTp",
   "provenance": []
  },
  "kernelspec": {
   "display_name": "Python 3 (ipykernel)",
   "language": "python",
   "name": "python3"
  },
  "language_info": {
   "codemirror_mode": {
    "name": "ipython",
    "version": 3
   },
   "file_extension": ".py",
   "mimetype": "text/x-python",
   "name": "python",
   "nbconvert_exporter": "python",
   "pygments_lexer": "ipython3",
   "version": "3.11.5"
  }
 },
 "nbformat": 4,
 "nbformat_minor": 4
}
